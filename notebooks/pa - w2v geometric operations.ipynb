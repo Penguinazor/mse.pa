{
 "cells": [
  {
   "cell_type": "code",
   "execution_count": 1,
   "metadata": {},
   "outputs": [],
   "source": [
    "# Start logging process at root level\n",
    "import logging\n",
    "logging.basicConfig(format='%(asctime)s : %(levelname)s : %(message)s', level=logging.INFO)\n",
    "logging.root.setLevel(level=logging.INFO)"
   ]
  },
  {
   "cell_type": "code",
   "execution_count": 2,
   "metadata": {},
   "outputs": [],
   "source": [
    "model_999_path = \"models/enwiki-full-dict-999.model\"\n",
    "model_999999_path = \"models/enwiki-full-dict-999999.model\"\n",
    "\n",
    "dictionary_full_wikien_lem_path = \"dictionaries/enwiki-english-lemmatized.txt.bz2\""
   ]
  },
  {
   "cell_type": "code",
   "execution_count": 3,
   "metadata": {},
   "outputs": [
    {
     "name": "stderr",
     "output_type": "stream",
     "text": [
      "2019-04-01 20:12:55,939 : INFO : 'pattern' package found; tag filters are available for English\n",
      "2019-04-01 20:12:55,944 : INFO : loading Word2Vec object from models/enwiki-full-dict-999.model\n",
      "2019-04-01 20:12:56,389 : INFO : loading vocabulary recursively from models/enwiki-full-dict-999.model.vocabulary.* with mmap=r\n",
      "2019-04-01 20:12:56,395 : INFO : loading wv recursively from models/enwiki-full-dict-999.model.wv.* with mmap=r\n",
      "2019-04-01 20:12:56,396 : INFO : loading vectors from models/enwiki-full-dict-999.model.wv.vectors.npy with mmap=r\n",
      "2019-04-01 20:12:56,402 : INFO : setting ignored attribute vectors_norm to None\n",
      "2019-04-01 20:12:56,406 : INFO : loading trainables recursively from models/enwiki-full-dict-999.model.trainables.* with mmap=r\n",
      "2019-04-01 20:12:56,409 : INFO : loading syn1neg from models/enwiki-full-dict-999.model.trainables.syn1neg.npy with mmap=r\n",
      "2019-04-01 20:12:56,412 : INFO : setting ignored attribute cum_table to None\n",
      "2019-04-01 20:12:56,413 : INFO : loaded models/enwiki-full-dict-999.model\n"
     ]
    }
   ],
   "source": [
    "from gensim.models import Word2Vec\n",
    "# Load word2vec model\n",
    "model_999 = Word2Vec.load(model_999_path, mmap='r')"
   ]
  },
  {
   "cell_type": "code",
   "execution_count": 4,
   "metadata": {},
   "outputs": [],
   "source": [
    "from gensim.utils import lemmatize\n",
    "def lem(word):\n",
    "    return lemmatize(word)[0].decode(\"utf-8\")"
   ]
  },
  {
   "cell_type": "code",
   "execution_count": 7,
   "metadata": {},
   "outputs": [
    {
     "name": "stdout",
     "output_type": "stream",
     "text": [
      "This is the lemmatized output of woman\n",
      "[b'woman/NN']\n"
     ]
    }
   ],
   "source": [
    "lemmatized = lemmatize(\"woman\")\n",
    "print(\"This is the lemmatized output of woman\")\n",
    "print(lemmatized)"
   ]
  },
  {
   "cell_type": "code",
   "execution_count": 8,
   "metadata": {},
   "outputs": [
    {
     "name": "stdout",
     "output_type": "stream",
     "text": [
      "Most similar to woman\n",
      "[('man/NN', 0.7191057205200195), ('child/NN', 0.700666606426239), ('male/NN', 0.6713857650756836), ('adult/NN', 0.6436131596565247), ('unmarried/JJ', 0.6167137026786804), ('adolescent/NN', 0.6128880381584167), ('sex/NN', 0.5942223072052002), ('young/JJ', 0.591631293296814), ('sorry/RB', 0.5882046222686768), ('female/NN', 0.5867695808410645)]\n"
     ]
    }
   ],
   "source": [
    "print(\"Most similar to woman\")\n",
    "print(model_999.wv.most_similar(lemmatized[0].decode(\"utf-8\")))"
   ]
  },
  {
   "cell_type": "code",
   "execution_count": 9,
   "metadata": {},
   "outputs": [
    {
     "name": "stdout",
     "output_type": "stream",
     "text": [
      "6065\n"
     ]
    }
   ],
   "source": [
    "from gensim.corpora import Dictionary\n",
    "\n",
    "dictionary_wikien_full_lem = Dictionary.load_from_text(dictionary_full_wikien_lem_path)\n",
    "print(dictionary_wikien_full_lem.token2id.get(lem(\"furthermore\")))"
   ]
  },
  {
   "cell_type": "code",
   "execution_count": 12,
   "metadata": {},
   "outputs": [
    {
     "name": "stdout",
     "output_type": "stream",
     "text": [
      "King - man + woman: (top 3)\n",
      "[('queen/NN', 0.6240123510360718), ('wessex/NN', 0.6140879392623901), ('aragon/NN', 0.5688242316246033)]\n"
     ]
    }
   ],
   "source": [
    "print('King - man + woman: (top 3)')\n",
    "print(model_999.wv.most_similar(positive=[lem('woman'), lem('king')], negative=[lem('man')],topn=3))"
   ]
  },
  {
   "cell_type": "code",
   "execution_count": 13,
   "metadata": {},
   "outputs": [
    {
     "name": "stdout",
     "output_type": "stream",
     "text": [
      "Similarity between man and woman:\n",
      "0.7191057\n"
     ]
    }
   ],
   "source": [
    "print('Similarity between man and woman:')\n",
    "print(model_999.wv.similarity(lem('woman'), lem('man')))"
   ]
  },
  {
   "cell_type": "code",
   "execution_count": 14,
   "metadata": {},
   "outputs": [
    {
     "name": "stdout",
     "output_type": "stream",
     "text": [
      "Most similar to american:\n",
      "[('african/JJ', 0.6246387958526611), ('canadian/JJ', 0.5717028379440308), ('american/NN', 0.5708358287811279), ('america/NN', 0.5657098293304443), ('america/VB', 0.552931547164917), ('carolina/JJ', 0.5454593896865845), ('american/VB', 0.5368925333023071), ('carolina/VB', 0.5268955230712891), ('brazilian/JJ', 0.5198072195053101), ('indian/JJ', 0.5172736644744873)]\n"
     ]
    }
   ],
   "source": [
    "print('Most similar to american:')\n",
    "print(model_999.wv.most_similar(lem('american')))"
   ]
  },
  {
   "cell_type": "code",
   "execution_count": 15,
   "metadata": {},
   "outputs": [
    {
     "name": "stderr",
     "output_type": "stream",
     "text": [
      "IOPub data rate exceeded.\n",
      "The notebook server will temporarily stop sending output\n",
      "to the client in order to avoid crashing it.\n",
      "To change this limit, set the config variable\n",
      "`--NotebookApp.iopub_data_rate_limit`.\n",
      "\n",
      "Current values:\n",
      "NotebookApp.iopub_data_rate_limit=1000000.0 (bytes/sec)\n",
      "NotebookApp.rate_limit_window=3.0 (secs)\n",
      "\n"
     ]
    }
   ],
   "source": [
    "print(\"Get vocab\")\n",
    "print(model_999.wv.vocab)"
   ]
  },
  {
   "cell_type": "code",
   "execution_count": 16,
   "metadata": {},
   "outputs": [
    {
     "name": "stdout",
     "output_type": "stream",
     "text": [
      "Get item Doctor\n"
     ]
    },
    {
     "data": {
      "text/plain": [
       "memmap([-0.80402565, -0.38926846,  0.5371201 , -0.52892965,  0.3623513 ,\n",
       "        -0.20208344, -0.10840356,  0.23748526,  0.0266294 , -0.26332477,\n",
       "        -0.12141909,  0.5853855 ,  0.47637945, -0.09339131,  0.44714078,\n",
       "        -0.18780726,  0.03957052, -0.0171934 ,  0.16429318, -0.96606874,\n",
       "         0.16416216, -0.5873296 ,  0.67512774, -0.55275947, -0.49470466,\n",
       "        -0.06507982, -0.10002407,  0.26164627,  0.1416864 , -0.37936428,\n",
       "         0.39004293,  0.9564352 ,  0.87583965,  0.0032682 , -0.63359153,\n",
       "        -0.12412099, -0.18424273,  0.22511818,  0.90160567, -0.3408425 ,\n",
       "         0.3583186 , -0.74777645, -0.1079805 ,  0.29059473,  0.16433139,\n",
       "         0.04834659,  0.0269336 ,  0.23178217, -0.10318681, -0.09194422,\n",
       "         0.50408906,  0.38859442,  0.15009545,  0.23264767,  0.6865142 ,\n",
       "        -0.34181082, -0.82109326, -0.34096843, -0.24565797,  0.08609475,\n",
       "         0.8131445 ,  0.2892879 , -0.3379478 , -0.27621582,  0.5983989 ,\n",
       "        -0.03798936,  0.05891169,  0.00524895,  0.4355726 , -0.92548776,\n",
       "         0.29151928,  0.1440814 , -0.22666718, -0.0639184 , -0.39255354,\n",
       "        -0.44145846, -0.59818214, -0.46471408,  0.31408066,  0.5525474 ,\n",
       "        -0.12411973,  0.79697853, -0.08755861,  0.3191841 ,  0.02773597,\n",
       "        -0.59242934,  0.09492564, -0.00791266, -0.16963217,  0.03095395,\n",
       "        -0.8357042 , -0.07566331,  1.001884  , -0.39183712,  0.21724561,\n",
       "         0.01954933,  0.22989222, -0.09532461, -0.66504097,  0.93955666,\n",
       "         0.32919776, -0.3744906 ,  0.01906231,  0.64008194,  0.81228065,\n",
       "        -0.08338276, -0.6145369 ,  0.71718127, -0.14251195, -0.09039935,\n",
       "        -0.42757514,  0.5798731 , -0.8029146 , -0.3106814 , -0.36349255,\n",
       "         0.4241963 , -0.4452616 ,  0.1078438 , -0.6435253 ,  0.42807877,\n",
       "        -0.28670865, -0.27345428,  0.2353885 , -0.28383657, -0.01548425,\n",
       "         0.47346985, -0.20594178, -0.27352247,  0.8145206 ,  0.11143111,\n",
       "        -0.17821594,  0.1625633 ,  0.5316151 , -1.3350735 ,  0.3218295 ,\n",
       "        -0.03712514, -0.693719  , -0.67034566,  0.37876374, -0.15124717,\n",
       "         0.18510015,  0.13442764,  0.49967328,  0.45319694,  0.5443756 ,\n",
       "         0.4753996 , -0.13533051,  0.21179634,  0.14656669, -0.03485258,\n",
       "        -0.4373237 ,  1.144331  ,  0.29987907,  0.74753696, -0.07589138,\n",
       "        -0.09791428, -0.4329385 , -0.3003635 , -0.35523182,  0.46626234,\n",
       "         0.2081025 , -0.8903463 , -0.11964983, -0.4979201 , -0.11976149,\n",
       "        -0.38517565, -0.06515558,  0.15525651,  0.17901869, -0.12590913,\n",
       "         1.0602458 , -0.24010018,  0.03134896, -0.27357128, -0.48588997,\n",
       "        -0.18322329,  0.69127893,  0.34847817, -0.2657434 , -1.0778542 ,\n",
       "        -0.5934536 , -0.79845744,  0.17679267,  1.0542067 , -0.08653649,\n",
       "         0.06578211, -0.3248436 , -0.09263565, -0.44737884,  0.28519285,\n",
       "        -0.28025585,  0.25425276, -0.47481236,  0.37884277, -0.15832008,\n",
       "         0.03844798, -0.31848204,  0.6358886 ,  0.61973697, -0.14576387,\n",
       "         0.5228459 ,  0.28803718, -0.7687863 , -0.57495964,  0.4378023 ,\n",
       "         0.4935733 , -0.63924265,  1.1325428 ,  0.4720245 , -0.28647035,\n",
       "        -0.4780427 ,  0.06804449,  0.6916244 ,  0.3465226 ,  0.3995713 ,\n",
       "         0.20441307, -0.23232876, -0.59664786, -0.50487846, -0.38078177,\n",
       "        -0.3829676 ,  0.09356884, -0.7039533 , -0.5992013 , -0.66258144,\n",
       "         0.3852134 , -0.6436243 ,  0.42636186,  0.09553845,  0.11073171,\n",
       "         0.17987913, -0.5091601 , -0.08240148, -0.17378837,  0.02612568,\n",
       "         0.44586712, -0.51813304,  0.48946917, -0.09164194,  0.4858439 ,\n",
       "        -0.26130107, -0.4076334 , -0.05771852,  0.10595603,  0.02594542,\n",
       "        -0.1918061 ,  0.44882476, -0.10606304,  0.7008466 , -0.58369434,\n",
       "         0.09887688, -0.676983  ,  0.5906623 ,  1.0747524 , -0.37091637,\n",
       "        -0.05934532, -0.43340814,  0.33217925, -0.7312269 ,  0.2882184 ,\n",
       "         0.20493695, -0.62183666,  0.49196094,  0.4269706 , -0.5562838 ,\n",
       "        -0.00944798,  0.285436  , -0.09584969,  0.4869404 , -0.59544593,\n",
       "         0.59226924,  0.5810221 ,  0.7155238 ,  0.34969065, -0.07503301,\n",
       "         0.07677577,  0.04712781,  0.56041026,  0.20054382,  0.34029183,\n",
       "        -0.81968904, -0.2684419 , -0.60985273,  0.45595503,  0.81800854,\n",
       "         0.194385  , -0.60566545, -0.20949267, -0.4551681 , -0.5813536 ,\n",
       "        -0.17671677,  0.9952648 , -0.5069183 , -0.3261659 , -0.8283898 ,\n",
       "         0.33451852,  0.22140156, -0.16790767, -0.2312007 ,  0.40020794],\n",
       "       dtype=float32)"
      ]
     },
     "execution_count": 16,
     "metadata": {},
     "output_type": "execute_result"
    }
   ],
   "source": [
    "print(\"Get item Doctor\")\n",
    "model_999.wv.__getitem__(\"doctor/NN\")"
   ]
  },
  {
   "cell_type": "code",
   "execution_count": 17,
   "metadata": {},
   "outputs": [
    {
     "name": "stdout",
     "output_type": "stream",
     "text": [
      "The/DT/the striped/JJ/striped bats/NNS/bat were/VBD/be hanging/VBG/hang on/IN/on their/PRP$/their feet/NNS/foot and/CC/and ate/VBD/eat best/JJ/best fishes/NNS/fish\n"
     ]
    }
   ],
   "source": [
    "from pattern.en import parse\n",
    "print(parse('The striped bats were hanging on their feet and ate best fishes', \n",
    "            lemmata=True, tags=True, chunks=False))"
   ]
  },
  {
   "cell_type": "code",
   "execution_count": 18,
   "metadata": {},
   "outputs": [
    {
     "data": {
      "text/plain": [
       "'the stripe bat be hang on their feet and eat best fishes'"
      ]
     },
     "execution_count": 18,
     "metadata": {},
     "output_type": "execute_result"
    }
   ],
   "source": [
    "import pattern\n",
    "from pattern.en import lemma, lexeme\n",
    "sentence = \"The striped bats were hanging on their feet and ate best fishes\"\n",
    "\" \".join([lemma(wd) for wd in sentence.split()])"
   ]
  },
  {
   "cell_type": "code",
   "execution_count": null,
   "metadata": {},
   "outputs": [],
   "source": []
  }
 ],
 "metadata": {
  "kernelspec": {
   "display_name": "Python 3",
   "language": "python",
   "name": "python3"
  },
  "language_info": {
   "codemirror_mode": {
    "name": "ipython",
    "version": 3
   },
   "file_extension": ".py",
   "mimetype": "text/x-python",
   "name": "python",
   "nbconvert_exporter": "python",
   "pygments_lexer": "ipython3",
   "version": "3.7.3"
  }
 },
 "nbformat": 4,
 "nbformat_minor": 2
}
