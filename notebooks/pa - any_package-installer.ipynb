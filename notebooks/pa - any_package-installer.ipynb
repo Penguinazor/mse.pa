{
 "cells": [
  {
   "cell_type": "markdown",
   "metadata": {},
   "source": [
    "# Packages Installer\n",
    "- **Where:** Any notebook\n",
    "\n",
    "## What's going on\n",
    "- Install the required packages for the project\n",
    "\n",
    "## Results\n",
    "- **Timeframe:** \n",
    "- **Errors:** Nil\n",
    "- **Comments:**"
   ]
  },
  {
   "cell_type": "code",
   "execution_count": 2,
   "metadata": {},
   "outputs": [
    {
     "name": "stdout",
     "output_type": "stream",
     "text": [
      "Requirement already up-to-date: gensim in ./.local/lib/python3.5/site-packages (3.7.1)\n",
      "Requirement already satisfied, skipping upgrade: scipy>=0.18.1 in /usr/local/lib/python3.5/dist-packages (from gensim) (1.1.0)\n",
      "Requirement already satisfied, skipping upgrade: six>=1.5.0 in /usr/local/lib/python3.5/dist-packages (from gensim) (1.11.0)\n",
      "Requirement already satisfied, skipping upgrade: smart-open>=1.7.0 in ./.local/lib/python3.5/site-packages (from gensim) (1.8.0)\n",
      "Requirement already satisfied, skipping upgrade: numpy>=1.11.3 in /usr/local/lib/python3.5/dist-packages (from gensim) (1.15.2)\n",
      "Requirement already satisfied, skipping upgrade: bz2file in ./.local/lib/python3.5/site-packages (from smart-open>=1.7.0->gensim) (0.98)\n",
      "Requirement already satisfied, skipping upgrade: boto3 in ./.local/lib/python3.5/site-packages (from smart-open>=1.7.0->gensim) (1.9.115)\n",
      "Requirement already satisfied, skipping upgrade: requests in /usr/local/lib/python3.5/dist-packages (from smart-open>=1.7.0->gensim) (2.21.0)\n",
      "Requirement already satisfied, skipping upgrade: boto>=2.32 in ./.local/lib/python3.5/site-packages (from smart-open>=1.7.0->gensim) (2.49.0)\n",
      "Requirement already satisfied, skipping upgrade: botocore<1.13.0,>=1.12.115 in ./.local/lib/python3.5/site-packages (from boto3->smart-open>=1.7.0->gensim) (1.12.115)\n",
      "Requirement already satisfied, skipping upgrade: jmespath<1.0.0,>=0.7.1 in ./.local/lib/python3.5/site-packages (from boto3->smart-open>=1.7.0->gensim) (0.9.4)\n",
      "Requirement already satisfied, skipping upgrade: s3transfer<0.3.0,>=0.2.0 in ./.local/lib/python3.5/site-packages (from boto3->smart-open>=1.7.0->gensim) (0.2.0)\n",
      "Requirement already satisfied, skipping upgrade: certifi>=2017.4.17 in /usr/local/lib/python3.5/dist-packages (from requests->smart-open>=1.7.0->gensim) (2018.11.29)\n",
      "Requirement already satisfied, skipping upgrade: urllib3<1.25,>=1.21.1 in /usr/local/lib/python3.5/dist-packages (from requests->smart-open>=1.7.0->gensim) (1.24.1)\n",
      "Requirement already satisfied, skipping upgrade: idna<2.9,>=2.5 in /usr/local/lib/python3.5/dist-packages (from requests->smart-open>=1.7.0->gensim) (2.8)\n",
      "Requirement already satisfied, skipping upgrade: chardet<3.1.0,>=3.0.2 in /usr/local/lib/python3.5/dist-packages (from requests->smart-open>=1.7.0->gensim) (3.0.4)\n",
      "Requirement already satisfied, skipping upgrade: docutils>=0.10 in ./.local/lib/python3.5/site-packages (from botocore<1.13.0,>=1.12.115->boto3->smart-open>=1.7.0->gensim) (0.14)\n",
      "Requirement already satisfied, skipping upgrade: python-dateutil<3.0.0,>=2.1; python_version >= \"2.7\" in /usr/local/lib/python3.5/dist-packages (from botocore<1.13.0,>=1.12.115->boto3->smart-open>=1.7.0->gensim) (2.7.3)\n",
      "\u001b[33mYou are using pip version 18.0, however version 19.0.3 is available.\n",
      "You should consider upgrading via the 'pip install --upgrade pip' command.\u001b[0m\n"
     ]
    }
   ],
   "source": [
    "import sys\n",
    "sys.path\n",
    "\n",
    "#!{sys.executable} -m pip install --user opencv-python\n",
    "#!{sys.executable} -m pip install --user wget\n",
    "#!{sys.executable} -m pip install --user gensim\n",
    "#!{sys.executable} -m pip install --user nltk\n",
    "#!{sys.executable} -m pip install --user pattern3\n",
    "#!{sys.executable} -m pip install --user git+git://github.com/pattern3/pattern.git"
   ]
  }
 ],
 "metadata": {
  "kernelspec": {
   "display_name": "Python 3",
   "language": "python",
   "name": "python3"
  },
  "language_info": {
   "codemirror_mode": {
    "name": "ipython",
    "version": 3
   },
   "file_extension": ".py",
   "mimetype": "text/x-python",
   "name": "python",
   "nbconvert_exporter": "python",
   "pygments_lexer": "ipython3",
   "version": "3.7.3"
  }
 },
 "nbformat": 4,
 "nbformat_minor": 2
}
