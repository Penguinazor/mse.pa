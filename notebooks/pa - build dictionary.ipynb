{
 "cells": [
  {
   "cell_type": "code",
   "execution_count": 1,
   "metadata": {},
   "outputs": [],
   "source": [
    "# Start logging process at root level\n",
    "import logging\n",
    "log_filename = \"logs/pa-build-dictionary.log\"\n",
    "logging.basicConfig(filename=log_filename, format='%(asctime)s : %(levelname)s : %(message)s', level=logging.INFO)\n",
    "logging.root.setLevel(level=logging.INFO)"
   ]
  },
  {
   "cell_type": "code",
   "execution_count": null,
   "metadata": {},
   "outputs": [],
   "source": [
    "# Build dictionary\n",
    "from gensim import corpora\n",
    "from gensim.corpora import WikiCorpus\n",
    "import gensim.downloader as api\n",
    "\n",
    "datafile_src = \"datasets/enwiki-latest-pages-articles.xml.bz2\"\n",
    "#datafile_name = \"datasets/chunks/enwiki-chunks-999/enwiki-chunk-999-1.xml.bz2\"\n",
    "#unfiltered_dictionary_name = \"dictionaries/enwiki-chunk-999-1_lem.txt.bz2\"\n",
    "#filtered_dictionary_name = \"dictionaries/enwiki-filtered-20-10-100000.txt.bz2\"\n",
    "unlemmatized_dictionary_name = \"dictionaries/enwiki-20190409-dict-unlemmatized.txt.bz2\"\n",
    "lemmatized_dictionary_name = \"dictionaries/enwiki-20190409-dict-lemmatized.txt.bz2\"\n",
    "\n",
    "must_lemmatize = True\n",
    "\n",
    "if must_lemmatize:\n",
    "    dictionary_name = lemmatized_dictionary_name\n",
    "else:\n",
    "    dictionary_name = unlemmatized_dictionary_name\n",
    "\n",
    "#datafile_name = api.load(\"text8\")\n",
    "#datafile_name = [wd for wd in datafile_name]\n",
    "#unfiltered_dictionary_name = \"dictionaries/text8.txt.bz2\"\n",
    "#filtered_dictionary_name = \"dictionaries/text8-filtered-20-10-100000.txt.bz2\"\n",
    "\n",
    "#dct = corpora.Dictionary(datafile_name)\n",
    "wiki = WikiCorpus(datafile_src, lemmatize=must_lemmatize) #False to no use lemmatization\n",
    "wiki.dictionary.save_as_text(dictionary_name)\n",
    "#dct.save_as_text(unfiltered_dictionary_name)\n",
    "\n",
    "# Remove words occuring less than 20 times, and words occuring in more than 10% of the documents. (keep_n is the vocabulary size)\n",
    "#wiki.dictionary.filter_extremes(no_below=20, no_above=0.1, keep_n=100000)\n",
    "#wiki.dictionary.save_as_text(filtered_dictionary_name)\n",
    "\n",
    "del wiki\n",
    "#del dct"
   ]
  },
  {
   "cell_type": "code",
   "execution_count": null,
   "metadata": {},
   "outputs": [],
   "source": []
  },
  {
   "cell_type": "code",
   "execution_count": null,
   "metadata": {},
   "outputs": [],
   "source": []
  },
  {
   "cell_type": "code",
   "execution_count": null,
   "metadata": {},
   "outputs": [],
   "source": [
    "# Load dictionary from file\n",
    "datafile_name_2 = \"datasets/chunks/enwiki-chunks-9999/enwiki-chunk-9999-1.xml.bz2\"\n",
    "unfiltered_dictionary_name_2 = \"dictionaries/enwiki-chunk-9999-1_2.txt.bz2\"\n",
    "\n",
    "from gensim.corpora import Dictionary\n",
    "dictionary = Dictionary.load_from_text(unfiltered_dictionary_name)\n",
    "\n",
    "wiki_2 = WikiCorpus(datafile_name_2)\n",
    "dictionary.add_documents(wiki_2)\n",
    "\n",
    "dictionary.save_as_text(unfiltered_dictionary_name_2)\n",
    "\n",
    "del wiki_2"
   ]
  },
  {
   "cell_type": "code",
   "execution_count": null,
   "metadata": {},
   "outputs": [],
   "source": []
  }
 ],
 "metadata": {
  "kernelspec": {
   "display_name": "Python [conda env:py36]",
   "language": "python",
   "name": "conda-env-py36-py"
  },
  "language_info": {
   "codemirror_mode": {
    "name": "ipython",
    "version": 3
   },
   "file_extension": ".py",
   "mimetype": "text/x-python",
   "name": "python",
   "nbconvert_exporter": "python",
   "pygments_lexer": "ipython3",
   "version": "3.6.8"
  }
 },
 "nbformat": 4,
 "nbformat_minor": 2
}
