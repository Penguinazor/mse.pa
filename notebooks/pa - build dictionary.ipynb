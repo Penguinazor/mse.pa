{
 "cells": [
  {
   "cell_type": "code",
   "execution_count": 1,
   "metadata": {},
   "outputs": [],
   "source": [
    "# Start logging process at root level\n",
    "import logging\n",
    "logging.basicConfig(format='%(asctime)s : %(levelname)s : %(message)s', level=logging.INFO)\n",
    "logging.root.setLevel(level=logging.INFO)"
   ]
  },
  {
   "cell_type": "code",
   "execution_count": 5,
   "metadata": {},
   "outputs": [
    {
     "name": "stderr",
     "output_type": "stream",
     "text": [
      "2019-04-01 15:33:57,887 : INFO : adding document #0 to Dictionary(0 unique tokens: [])\n",
      "2019-04-01 15:34:20,199 : INFO : finished iterating over Wikipedia corpus of 712 documents with 1494183 positions (total 1000 articles, 1495528 positions before pruning articles shorter than 50 words)\n",
      "2019-04-01 15:34:20,379 : INFO : built Dictionary(104334 unique tokens: ['headdress/NN', 'dadash/NN', 'ummayad/JJ', 'kapital/NN', 'college/NN']...) from 712 documents (total 1494183 corpus positions)\n",
      "2019-04-01 15:34:20,381 : INFO : saving dictionary mapping to dictionaries/enwiki-chunk-999-1_lem.txt.bz2\n"
     ]
    }
   ],
   "source": [
    "# Build dictionary\n",
    "from gensim import corpora\n",
    "from gensim.corpora import WikiCorpus\n",
    "import gensim.downloader as api\n",
    "\n",
    "datafile_src = \"datasets/enwiki-latest-pages-articles.xml.bz2\"\n",
    "datafile_name = \"datasets/chunks/enwiki-chunks-999/enwiki-chunk-999-1.xml.bz2\"\n",
    "unfiltered_dictionary_name = \"dictionaries/enwiki-chunk-999-1_lem.txt.bz2\"\n",
    "filtered_dictionary_name = \"dictionaries/enwiki-filtered-20-10-100000.txt.bz2\"\n",
    "\n",
    "#datafile_name = api.load(\"text8\")\n",
    "#datafile_name = [wd for wd in datafile_name]\n",
    "#unfiltered_dictionary_name = \"dictionaries/text8.txt.bz2\"\n",
    "#filtered_dictionary_name = \"dictionaries/text8-filtered-20-10-100000.txt.bz2\"\n",
    "\n",
    "#dct = corpora.Dictionary(datafile_name)\n",
    "wiki = WikiCorpus(datafile_name, lemmatize=False)\n",
    "wiki.dictionary.save_as_text(unfiltered_dictionary_name)\n",
    "#dct.save_as_text(unfiltered_dictionary_name)\n",
    "\n",
    "# Remove words occuring less than 20 times, and words occuring in more than 10% of the documents. (keep_n is the vocabulary size)\n",
    "#wiki.dictionary.filter_extremes(no_below=20, no_above=0.1, keep_n=100000)\n",
    "#wiki.dictionary.save_as_text(filtered_dictionary_name)\n",
    "\n",
    "del wiki\n",
    "#del dct"
   ]
  },
  {
   "cell_type": "code",
   "execution_count": null,
   "metadata": {},
   "outputs": [],
   "source": [
    "# Load dictionary from file\n",
    "datafile_name_2 = \"datasets/chunks/enwiki-chunks-9999/enwiki-chunk-9999-1.xml.bz2\"\n",
    "unfiltered_dictionary_name_2 = \"dictionaries/enwiki-chunk-9999-1_2.txt.bz2\"\n",
    "\n",
    "from gensim.corpora import Dictionary\n",
    "dictionary = Dictionary.load_from_text(unfiltered_dictionary_name)\n",
    "\n",
    "wiki_2 = WikiCorpus(datafile_name_2)\n",
    "dictionary.add_documents(wiki_2)\n",
    "\n",
    "dictionary.save_as_text(unfiltered_dictionary_name_2)\n",
    "\n",
    "del wiki_2"
   ]
  },
  {
   "cell_type": "code",
   "execution_count": null,
   "metadata": {},
   "outputs": [],
   "source": []
  }
 ],
 "metadata": {
  "kernelspec": {
   "display_name": "Python 3",
   "language": "python",
   "name": "python3"
  },
  "language_info": {
   "codemirror_mode": {
    "name": "ipython",
    "version": 3
   },
   "file_extension": ".py",
   "mimetype": "text/x-python",
   "name": "python",
   "nbconvert_exporter": "python",
   "pygments_lexer": "ipython3",
   "version": "3.5.2"
  }
 },
 "nbformat": 4,
 "nbformat_minor": 2
}
