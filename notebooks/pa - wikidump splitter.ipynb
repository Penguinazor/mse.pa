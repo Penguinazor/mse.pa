{
 "cells": [
  {
   "cell_type": "code",
   "execution_count": 1,
   "metadata": {},
   "outputs": [],
   "source": [
    "# Start logging process at root level\n",
    "import logging\n",
    "logging.basicConfig(format='%(asctime)s : %(levelname)s : %(message)s', level=logging.INFO)\n",
    "logging.root.setLevel(level=logging.INFO)"
   ]
  },
  {
   "cell_type": "code",
   "execution_count": 2,
   "metadata": {},
   "outputs": [],
   "source": [
    "total_lines = 1092633438\n",
    "chunk_pages = 99999 # 999999: ~2.3GB, 99999: ~300MB, 9999: ~89MB, 999: ~8MB\n",
    "chunks_folder = \"datasets/chunks/\"\n",
    "folder_name = chunks_folder+\"enwiki-chunks-\"+str(chunk_pages)+\"/\"\n",
    "chunk_basename = \"enwiki-chunk-\"+str(chunk_pages)+\"-\""
   ]
  },
  {
   "cell_type": "code",
   "execution_count": 3,
   "metadata": {},
   "outputs": [
    {
     "name": "stdout",
     "output_type": "stream",
     "text": [
      "Data folder was not present.\n"
     ]
    }
   ],
   "source": [
    "import os\n",
    "# Check and create chunk diretory\n",
    "if not os.path.exists(chunks_folder):\n",
    "    print(\"Chunks folder was not present.\")\n",
    "    os.mkdir(chunks_folder)\n",
    "if not os.path.exists(folder_name):\n",
    "    print(\"Data chunk folder was not present.\")\n",
    "    os.mkdir(folder_name)"
   ]
  },
  {
   "cell_type": "code",
   "execution_count": 4,
   "metadata": {},
   "outputs": [],
   "source": [
    "# Based on: \n",
    "# https://stackoverflow.com/questions/6184912/how-to-split-large-wikipedia-dump-xml-bz2-files-in-python\n",
    "\n",
    "import os\n",
    "import bz2\n",
    "from timeit import default_timer as timer\n",
    "\n",
    "#print(\"expecting: \" +  + \" parts\")\n",
    "\n",
    "def split_xml(filename):\n",
    "    ''' The function gets the filename of wiktionary.xml.bz2 file as  input and creates\n",
    "    smallers chunks of it in a the diretory chunks\n",
    "    '''\n",
    "    # Counters\n",
    "    pagecount = 0\n",
    "    filecount = 1\n",
    "    total_pages = 0\n",
    "    # open chunkfile in write mode\n",
    "    chunkname = lambda filecount: os.path.join(folder_name,chunk_basename+str(filecount)+\".xml.bz2\")\n",
    "    chunkfile = bz2.BZ2File(chunkname(filecount), 'w')\n",
    "    # Read line by line\n",
    "    bzfile = bz2.BZ2File(filename)\n",
    "    #print(sum(1 for _ in bzfile))\n",
    "    print(\"Chunking...\")\n",
    "    start = timer()\n",
    "    for line in bzfile:\n",
    "        chunkfile.write(line)\n",
    "        # the </page> determines new wiki page\n",
    "        if b'</page>' in line:\n",
    "            pagecount += 1\n",
    "            total_pages += 1\n",
    "        if pagecount > chunk_pages:\n",
    "            chunkfile.write(b'</mediawiki>') # add end tag\n",
    "            end = timer()\n",
    "            print(datetime.datetime.now(),\":\",filecount,\"->\", round(end - start,2), \"seconds\") # Time in seconds + current page\n",
    "            chunkfile.close()\n",
    "            pagecount = 0\n",
    "            filecount += 1         \n",
    "            chunkfile = bz2.BZ2File(chunkname(filecount), 'w')\n",
    "            start = timer()\n",
    "            # add start tag\n",
    "            chunkfile.write(b'<mediawiki xmlns=\"http://www.mediawiki.org/xml/export-0.10/\" xmlns:xsi=\"http://www.w3.org/2001/XMLSchema-instance\" xsi:schemaLocation=\"http://www.mediawiki.org/xml/export-0.10/ http://www.mediawiki.org/xml/export-0.10.xsd\" version=\"0.10\" xml:lang=\"en\">\\n')\n",
    "    try:\n",
    "        chunkfile.close()\n",
    "    except:\n",
    "        print('Files already close')\n",
    "        \n",
    "    print(\"Done.\")"
   ]
  },
  {
   "cell_type": "code",
   "execution_count": null,
   "metadata": {},
   "outputs": [],
   "source": [
    "split_xml('datasets/enwiki-latest-pages-articles.xml.bz2')"
   ]
  },
  {
   "cell_type": "code",
   "execution_count": null,
   "metadata": {},
   "outputs": [],
   "source": []
  }
 ],
 "metadata": {
  "kernelspec": {
   "display_name": "Python 3",
   "language": "python",
   "name": "python3"
  },
  "language_info": {
   "codemirror_mode": {
    "name": "ipython",
    "version": 3
   },
   "file_extension": ".py",
   "mimetype": "text/x-python",
   "name": "python",
   "nbconvert_exporter": "python",
   "pygments_lexer": "ipython3",
   "version": "3.7.3"
  }
 },
 "nbformat": 4,
 "nbformat_minor": 2
}
