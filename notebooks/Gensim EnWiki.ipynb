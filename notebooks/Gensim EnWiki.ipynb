{
 "cells": [
  {
   "cell_type": "code",
   "execution_count": null,
   "metadata": {},
   "outputs": [],
   "source": [
    "# Install packages\n",
    "import sys\n",
    "sys.path\n",
    "\n",
    "#!{sys.executable} -m pip install --user opencv-python\n",
    "#!{sys.executable} -m pip install --user wget\n",
    "#!{sys.executable} -m pip install --user gensim\n",
    "#!{sys.executable} -m pip install --user nltk\n",
    "#!{sys.executable} -m pip install --user pattern3\n",
    "#!{sys.executable} -m pip install --user git+git://github.com/pattern3/pattern.git"
   ]
  },
  {
   "cell_type": "code",
   "execution_count": null,
   "metadata": {},
   "outputs": [],
   "source": [
    "# Set logger\n",
    "logging.basicConfig(format='%(asctime)s : %(levelname)s : %(message)s')\n",
    "logging.root.setLevel(level=logging.INFO)"
   ]
  },
  {
   "cell_type": "code",
   "execution_count": null,
   "metadata": {},
   "outputs": [],
   "source": [
    "# Build dictionary and corpus matrices\n",
    "from gensim.test.utils import datapath, get_tmpfile\n",
    "from gensim.corpora import WikiCorpus, MmCorpus\n",
    "\n",
    "#path_to_wiki_dump = datapath(\"enwiki-latest-pages-articles.xml.bz2\")\n",
    "corpus_path = get_tmpfile(\"enwiki-corpus.mm\")\n",
    "\n",
    "wiki = WikiCorpus(\"enwiki-latest-pages-articles.xml.bz2\")  # create word->word_id mapping, ~10h\n",
    "wiki.dictionary.save(\"enwiki_dict.dict\")\n",
    "MmCorpus.serialize(corpus_path, wiki)  # creates a MatrixMarket formatted file and mapping, ~10h"
   ]
  },
  {
   "cell_type": "code",
   "execution_count": null,
   "metadata": {},
   "outputs": [],
   "source": [
    "# Import required packages for Word2Vec fun\n",
    "from gensim.models import LdaModel, LdaMulticore\n",
    "from gensim.utils import simple_preprocess, lemmatize\n",
    "from gensim import corpora\n",
    "\n",
    "from smart_open import smart_open\n",
    "\n",
    "from nltk.corpus import stopwords\n",
    "\n",
    "import re\n",
    "import logging"
   ]
  },
  {
   "cell_type": "code",
   "execution_count": null,
   "metadata": {},
   "outputs": [],
   "source": [
    "# Set Stopwords\n",
    "stop_words = stopwords.words('english')\n",
    "stop_words = stop_words + ['com', 'edu', 'subject', 'lines', 'organization', 'would', 'article', 'could']"
   ]
  },
  {
   "cell_type": "code",
   "execution_count": null,
   "metadata": {},
   "outputs": [],
   "source": [
    "# Load dictionary and corpus matrices\n",
    "dictionary = corpora.Dictionary.load('enwiki-dict.dict')\n",
    "corpus = corpora.MmCorpus('enwiki-corpus.mm')"
   ]
  },
  {
   "cell_type": "code",
   "execution_count": null,
   "metadata": {},
   "outputs": [],
   "source": [
    "# Load data into lda\n",
    "from multiprocessing import cpu_count\n",
    "#print(cpu_count())\n",
    "lda = LdaMulticore(corpus=corpus, id2word=dictionary, num_topics=100, workers=int(12))"
   ]
  },
  {
   "cell_type": "code",
   "execution_count": null,
   "metadata": {},
   "outputs": [],
   "source": [
    "#print(lda)"
   ]
  },
  {
   "cell_type": "code",
   "execution_count": null,
   "metadata": {},
   "outputs": [],
   "source": [
    "print(\"hello World\")"
   ]
  },
  {
   "cell_type": "code",
   "execution_count": null,
   "metadata": {},
   "outputs": [],
   "source": []
  }
 ],
 "metadata": {
  "kernelspec": {
   "display_name": "Python 3",
   "language": "python",
   "name": "python3"
  },
  "language_info": {
   "codemirror_mode": {
    "name": "ipython",
    "version": 3
   },
   "file_extension": ".py",
   "mimetype": "text/x-python",
   "name": "python",
   "nbconvert_exporter": "python",
   "pygments_lexer": "ipython3",
   "version": "3.5.2"
  }
 },
 "nbformat": 4,
 "nbformat_minor": 2
}
