{
 "cells": [
  {
   "cell_type": "markdown",
   "metadata": {},
   "source": [
    "# Gensim Training Experiments\n",
    "- **Machines:** \n",
    "    - HEIA-FR GPU-2 (32 cpu dual threaded)\n",
    "    - CPU Monster at HEIA-FR (48 cpu single threaded)\n",
    "- **Dataset:**\n",
    "    - wikipedia english dump from 2019-03-19 (16GB)\n",
    "    - wikipedia english dump from 2019-04-09 (16GB)\n",
    "- **Dictionary:**\n",
    "    - lemmatized dictionary(16MB)\n",
    "    - unlemmatized dictionary(16MB)\n",
    "\n",
    "## What's going on\n",
    "- Training a Word2Vec on the full wikipedia english dataset using its pre-extracted lemmatized and unlemmatized dictionary."
   ]
  },
  {
   "cell_type": "code",
   "execution_count": 1,
   "metadata": {},
   "outputs": [],
   "source": [
    "# Word2Vec settings\n",
    "import multiprocessing\n",
    "\n",
    "#w2v_w2v_sentences=None\n",
    "#w2v_corpus_file=None\n",
    "w2v_size=300 # (default: 100)\n",
    "#w2v_alpha=0.025\n",
    "w2v_window=10 # (default: 5)\n",
    "w2v_min_count=1 # (default: 5)\n",
    "#w2v_max_vocab_size=None\n",
    "#w2v_sample=0.001\n",
    "#w2v_seed=1\n",
    "w2v_workers=4 # (default: 3) # multiprocessing.cpu_count()\n",
    "#w2v_min_alpha=0.0001\n",
    "w2v_sg=0 # if sg=0 CBOW is used (default); if sg=1 skip-gram is used\n",
    "#w2v_hs=0\n",
    "#w2v_negative=5\n",
    "#w2v_ns_exponent=0.75\n",
    "#w2v_cbow_mean=1\n",
    "#w2v_hashfxn=<built-in function hash>\n",
    "w2v_iter=5 # (default: 5)\n",
    "#w2v_null_word=0\n",
    "#w2v_trim_rule=None\n",
    "#w2v_sorted_vocab=1\n",
    "w2v_batch_words=10000 # (default: 10000)\n",
    "#w2v_compute_loss=False\n",
    "#w2v_callbacks=()\n",
    "#w2v_max_final_vocab=None"
   ]
  },
  {
   "cell_type": "code",
   "execution_count": 2,
   "metadata": {},
   "outputs": [],
   "source": [
    "# General settings\n",
    "lemmatization = False\n",
    "run_corpus = \"wiki\"\n",
    "run_lang = \"en\"\n",
    "run_date = \"190409\"\n",
    "run_log_prefix = \"train\"\n",
    "\n",
    "run_model_dir = \"models/\"\n",
    "run_dict_dir = \"dictionaries/\"\n",
    "run_datasets_dir = \"datasets/\"\n",
    "run_log_dir = \"logs/\""
   ]
  },
  {
   "cell_type": "code",
   "execution_count": 3,
   "metadata": {},
   "outputs": [
    {
     "name": "stdout",
     "output_type": "stream",
     "text": [
      "s300-w10-mc1-bw10000-cbow-i5-c4\n",
      "models/wiki-en-190409-s300-w10-mc1-bw10000-cbow-i5-c4-unlem.model\n",
      "dictionaries/wiki-en-190409-dict-unlem.txt.bz2\n",
      "datasets/wiki-en-190409-latest-pages-articles.xml.bz2\n",
      "logs/train-wiki-en-190409-s300-w10-mc1-bw10000-cbow-i5-c4-unlem.log\n"
     ]
    }
   ],
   "source": [
    "run_w2v_algo = \"cbow\" if w2v_sg==0 else \"sg\"\n",
    "\n",
    "run_options = \"s\"+str(w2v_size)+\"-w\"+str(w2v_window)+\"-mc\"+str(w2v_min_count)+\"-bw\"+str(w2v_batch_words)+\"-\"+run_w2v_algo+\"-i\"+str(w2v_iter)+\"-c\"+str(w2v_workers)\n",
    "print(run_options)\n",
    "\n",
    "run_base_name = run_corpus+\"-\"+run_lang+\"-\"+run_date # wiki-en-190409\n",
    "run_model_name = run_model_dir+run_base_name+\"-\"+run_options\n",
    "\n",
    "run_dict_name = run_dict_dir+run_base_name+\"-dict\"\n",
    "run_dataset_name = run_datasets_dir+run_base_name+\"-latest-pages-articles.xml.bz2\"\n",
    "run_log_name = run_log_dir+run_log_prefix+\"-\"+run_base_name+\"-\"+run_options\n",
    "\n",
    "run_lem = \"-lem\" if lemmatization else \"-unlem\"\n",
    "\n",
    "run_model_name += run_lem+\".model\"\n",
    "run_dict_name += run_lem+\".txt.bz2\"\n",
    "run_log_name += run_lem+\".log\"\n",
    "    \n",
    "print(run_model_name)\n",
    "print(run_dict_name)\n",
    "print(run_dataset_name)\n",
    "print(run_log_name)"
   ]
  },
  {
   "cell_type": "code",
   "execution_count": 4,
   "metadata": {},
   "outputs": [],
   "source": [
    "# Start logging process at root level\n",
    "import logging\n",
    "logging.basicConfig(filename=run_log_name, format='%(asctime)s : %(levelname)s : %(message)s', level=logging.INFO)\n",
    "#logging.basicConfig(format='%(asctime)s : %(levelname)s : %(message)s', level=logging.INFO)\n",
    "logging.root.setLevel(level=logging.INFO)"
   ]
  },
  {
   "cell_type": "code",
   "execution_count": null,
   "metadata": {},
   "outputs": [],
   "source": []
  },
  {
   "cell_type": "code",
   "execution_count": 5,
   "metadata": {},
   "outputs": [],
   "source": [
    "# Load dictionary from file\n",
    "from gensim.corpora import Dictionary\n",
    "dictionary = Dictionary.load_from_text(run_dict_name)"
   ]
  },
  {
   "cell_type": "code",
   "execution_count": null,
   "metadata": {},
   "outputs": [],
   "source": [
    "# Build WikiCorpus based on the dictionary\n",
    "from gensim.corpora import WikiCorpus\n",
    "\n",
    "wc_fname=run_dataset_name\n",
    "#wc_processes=None\n",
    "wc_lemmatize=lemmatization\n",
    "wc_dictionary=dictionary\n",
    "#wc_filter_namespaces=('0', )\n",
    "#wc_tokenizer_func=<function tokenize>\n",
    "#wc_article_min_tokens=50\n",
    "#wc_token_min_len=2\n",
    "#wc_token_max_len=15\n",
    "#wc_lower=True\n",
    "#wc_filter_articles=None\n",
    "\n",
    "wiki = WikiCorpus(fname=wc_fname, dictionary=wc_dictionary,lemmatize=wc_lemmatize)"
   ]
  },
  {
   "cell_type": "code",
   "execution_count": null,
   "metadata": {},
   "outputs": [],
   "source": [
    "# Initialize simple sentence iterator required for the Word2Vec model\n",
    "# Trying to bypass memory errors\n",
    "\n",
    "if lemmatization:\n",
    "    class SentencesIterator:\n",
    "        def __init__(self, wiki):\n",
    "            self.wiki = wiki\n",
    "\n",
    "        def __iter__(self):\n",
    "            for sentence in self.wiki.get_texts():\n",
    "                yield list(map(lambda x: x.decode('utf-8'), sentence))\n",
    "                #yield gensim.utils.simple_preprocess(line)\n",
    "\n",
    "else:\n",
    "    class SentencesIterator:\n",
    "        def __init__(self, wiki):\n",
    "            self.wiki = wiki\n",
    "\n",
    "        def __iter__(self):\n",
    "            for sentence in self.wiki.get_texts():\n",
    "                yield list(map(lambda x: x.encode('utf-8').decode('utf-8'), sentence))\n",
    "\n",
    "sentences = SentencesIterator(wiki)"
   ]
  },
  {
   "cell_type": "code",
   "execution_count": null,
   "metadata": {},
   "outputs": [
    {
     "name": "stdout",
     "output_type": "stream",
     "text": [
      "Running with: 4 cores\n"
     ]
    }
   ],
   "source": [
    "# Train model\n",
    "from gensim.models import Word2Vec\n",
    "\n",
    "print(\"Running with: \" + str(w2v_workers) + \" cores\")\n",
    "\n",
    "model = Word2Vec(sentences=sentences,\n",
    "                 size=w2v_size,\n",
    "                 window=w2v_window,\n",
    "                 min_count=w2v_min_count,\n",
    "                 workers=w2v_workers,\n",
    "                 sg=w2v_sg,\n",
    "                 iter=w2v_iter\n",
    "                )\n",
    "model.save(run_model_name)\n",
    "\n",
    "del model\n",
    "del wiki\n",
    "del sentences\n",
    "del dictionary"
   ]
  },
  {
   "cell_type": "code",
   "execution_count": null,
   "metadata": {},
   "outputs": [],
   "source": []
  }
 ],
 "metadata": {
  "kernelspec": {
   "display_name": "Python [conda env:py36]",
   "language": "python",
   "name": "conda-env-py36-py"
  },
  "language_info": {
   "codemirror_mode": {
    "name": "ipython",
    "version": 3
   },
   "file_extension": ".py",
   "mimetype": "text/x-python",
   "name": "python",
   "nbconvert_exporter": "python",
   "pygments_lexer": "ipython3",
   "version": "3.6.8"
  }
 },
 "nbformat": 4,
 "nbformat_minor": 2
}
